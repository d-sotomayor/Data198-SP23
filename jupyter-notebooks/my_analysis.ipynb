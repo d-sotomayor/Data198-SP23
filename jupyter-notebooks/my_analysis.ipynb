{
 "cells": [
  {
   "cell_type": "markdown",
   "id": "898053b0",
   "metadata": {},
   "source": [
    "# [Data 198] Assignment 0 - Git Activity"
   ]
  },
  {
   "cell_type": "code",
   "execution_count": null,
   "id": "7d79cf18",
   "metadata": {},
   "outputs": [],
   "source": [
    "import pandas as pd\n",
    "import numpy as np\n",
    "import matplotlib.pyplot as plt"
   ]
  }
 ],
 "metadata": {
  "kernelspec": {
   "display_name": "Python 3 (ipykernel)",
   "language": "python",
   "name": "python3"
  },
  "language_info": {
   "codemirror_mode": {
    "name": "ipython",
    "version": 3
   },
   "file_extension": ".py",
   "mimetype": "text/x-python",
   "name": "python",
   "nbconvert_exporter": "python",
   "pygments_lexer": "ipython3",
   "version": "3.9.13"
  }
 },
 "nbformat": 4,
 "nbformat_minor": 5
}
